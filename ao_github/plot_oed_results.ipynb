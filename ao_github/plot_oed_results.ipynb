{
 "cells": [
  {
   "cell_type": "markdown",
   "id": "63780978",
   "metadata": {},
   "source": [
    "## Plot OED results\n",
    "\n",
    "Run this file to generate figures illustrating the utility of the different length timeseries\n",
    "for the WAFF-GP and FF-GP models for various measurement conditions"
   ]
  },
  {
   "cell_type": "code",
   "execution_count": 1,
   "id": "b8c5f2ae",
   "metadata": {},
   "outputs": [],
   "source": [
    "import numpy as np\n",
    "import matplotlib\n",
    "matplotlib.use('nbagg')\n",
    "import matplotlib.pyplot as plt\n",
    "matplotlib.rcParams.update({'font.size': 16})"
   ]
  },
  {
   "cell_type": "code",
   "execution_count": 2,
   "id": "adb4c966",
   "metadata": {},
   "outputs": [],
   "source": [
    "data = np.loadtxt('output_data/results_A.txt', delimiter=',', skiprows=1)\n",
    "data_iso = np.loadtxt('output_data/results_A_iso.txt', delimiter=',', skiprows=1)\n",
    "data_sp = np.loadtxt('output_data/results_spatial.txt', delimiter=',', skiprows=1)"
   ]
  },
  {
   "cell_type": "code",
   "execution_count": 3,
   "id": "8dd452ba",
   "metadata": {},
   "outputs": [],
   "source": [
    "x = range(1,21,3)\n",
    "wl = 0.7e-6"
   ]
  },
  {
   "cell_type": "code",
   "execution_count": 4,
   "id": "e5eff5f1",
   "metadata": {},
   "outputs": [],
   "source": [
    "plt.figure(figsize=(12,20))\n",
    "for i in range(4):\n",
    "    ax = plt.subplot(4,1,i+1)\n",
    "    row = 4*i\n",
    "    ax.plot(x,data[row,2:]/data_sp[row,2], label=f'S/N={int(1/data[row,1])}',linewidth=2)\n",
    "    row = 4*i + 1\n",
    "    ax.plot(x,data[row,2:]/data_sp[row,2], label=f'S/N={int(1/data[row,1])}',linewidth=2, linestyle=(0,(3,1,1,1,1,1)))\n",
    "    row = 4*i + 2\n",
    "    ax.plot(x,data[row,2:]/data_sp[row,2], label=f'S/N={int(1/data[row,1])}',linewidth=2, linestyle='dashed')\n",
    "    row = 4*i + 3\n",
    "    ax.plot(x,data[row,2:]/data_sp[row,2], label=f'S/N={int(1/data[row,1])}',linewidth=2, linestyle='dashdot')\n",
    "    ax.set_title(f'Wind={500*data[5*i,0]} m/s')\n",
    "    ax.set_xlim([1, 19])\n",
    "ax.set_xlabel('Timesteps')\n",
    "ax.set_ylabel(\"Relative reconstruction error (FF-GP/S-SP)\")\n",
    "ax.legend()\n",
    "plt.savefig('figures/oed_winds_A.pdf')"
   ]
  },
  {
   "cell_type": "code",
   "execution_count": 5,
   "id": "f97dda95",
   "metadata": {},
   "outputs": [],
   "source": [
    "plt.figure(figsize=(12,20))\n",
    "for i in range(4):\n",
    "    ax = plt.subplot(4,1,i+1)\n",
    "    row = 4*i\n",
    "    ax.plot(x,data_iso[row,2:]/data_sp[row,2], label=f'S/N={int(1/data[row,1])}',linewidth=2)\n",
    "    row = 4*i + 1\n",
    "    ax.plot(x,data_iso[row,2:]/data_sp[row,2], label=f'S/N={int(1/data[row,1])}',linewidth=2, linestyle=(0,(3,1,1,1,1,1)))\n",
    "    row = 4*i + 2\n",
    "    ax.plot(x,data_iso[row,2:]/data_sp[row,2], label=f'S/N={int(1/data[row,1])}',linewidth=2, linestyle='dashed')\n",
    "    row = 4*i + 3\n",
    "    ax.plot(x,data_iso[row,2:]/data_sp[row,2], label=f'S/N={int(1/data[row,1])}',linewidth=2, linestyle='dashdot')\n",
    "    ax.set_title(f'Wind={500*data[5*i,0]} m/s')\n",
    "    ax.set_xlim([1, 19])\n",
    "ax.set_xlabel('Timesteps')\n",
    "ax.set_ylabel(\"Relative reconstruction error (WAFF-GP/S-GP)\")\n",
    "ax.legend()\n",
    "plt.savefig('figures/oed_winds_A_iso.pdf')"
   ]
  },
  {
   "cell_type": "code",
   "execution_count": null,
   "id": "62a473c3",
   "metadata": {},
   "outputs": [],
   "source": []
  }
 ],
 "metadata": {
  "kernelspec": {
   "display_name": "Python 3 (ipykernel)",
   "language": "python",
   "name": "python3"
  },
  "language_info": {
   "codemirror_mode": {
    "name": "ipython",
    "version": 3
   },
   "file_extension": ".py",
   "mimetype": "text/x-python",
   "name": "python",
   "nbconvert_exporter": "python",
   "pygments_lexer": "ipython3",
   "version": "3.10.6"
  }
 },
 "nbformat": 4,
 "nbformat_minor": 5
}
